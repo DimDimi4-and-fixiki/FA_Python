{
 "cells": [
  {
   "cell_type": "markdown",
   "metadata": {},
   "source": [
    "***Интерактивный вариант здесь : ***https://hub.gke.mybinder.org/user/dimdimi4-and-fixiki-fa_python-mn93k4hf/notebooks/functions.ipynb***"
   ]
  },
  {
   "cell_type": "markdown",
   "metadata": {},
   "source": [
    "***Функции***\n",
    " \n",
    "**Функции нужны чтобы писать более сложные программы более лаконично**\n",
    " \n",
    "**Пример игры \"Угадай число\" с функцией для считывания и проверки**\n"
   ]
  },
  {
   "cell_type": "code",
   "execution_count": null,
   "metadata": {},
   "outputs": [],
   "source": [
    "num = 57\n",
    "difficulty = \"low\"\n",
    " \n",
    "def check_input(N):  # создаем функцию check_input\n",
    "  for i in range(N) :\n",
    "    guess = int(input(\"Введите число\"))\n",
    "    if guess == num:\n",
    "        print(\"Вы выйграли\")\n",
    "    else:\n",
    "        print(\"Не угадали!\")\n",
    "   \n",
    " \n",
    "if difficulty == \"hard\":\n",
    "    check_input(10) # вызываем функции check_input от 10\n",
    "elif difficulty == \"medium\":\n",
    "    check_input(12) # вызываем функции check_input от 12\n",
    "elif difficulty == \"medium\":\n",
    "    check_input(15) # вызываем функции check_input от 15\n",
    "elif difficulty == \"low\":\n",
    "    check_input(18) # вызываем функции check_input от 18"
   ]
  },
  {
   "cell_type": "markdown",
   "metadata": {},
   "source": [
    "**Считаем факториал с помощью функции**"
   ]
  },
  {
   "cell_type": "code",
   "execution_count": 12,
   "metadata": {},
   "outputs": [
    {
     "name": "stdout",
     "output_type": "stream",
     "text": [
      "Введите число10\n",
      "Факториал числа 10 равен 362880\n"
     ]
    }
   ],
   "source": [
    "def factorial(N):\n",
    "    res = 1 # перемнная для результат\n",
    "    for i in range(1, N): # считаем факториал\n",
    "        res *= i\n",
    "    return res # возвращаем факториал\n",
    " \n",
    "number = int(input(\"Введите число\"))\n",
    " \n",
    "fact = factorial(number) # записывем результат работы функции в fact\n",
    " \n",
    "print('Факториал числа {} равен {}'.format(number, fact)) # форматируем строку вместо {} подставляются аргумены number и fact"
   ]
  },
  {
   "cell_type": "markdown",
   "metadata": {},
   "source": [
    "**Задание.Написать функцию, которая возвращает НОД двух чисел**\n",
    "Решение перебором:"
   ]
  },
  {
   "cell_type": "code",
   "execution_count": null,
   "metadata": {},
   "outputs": [],
   "source": [
    "def gcd(a, b):\n",
    "    if a < 1 or b < 1:\n",
    "        return -1\n",
    "    res = 1\n",
    "    for candidate in range(1, min(a, b) + 1): # перебираем числа и проверяем что a и b делятся на него\n",
    "        if a % candidate == 0 and \\\n",
    "            b % candidate == 0:\n",
    "            res = candidate  \n",
    "           \n",
    "    return res\n",
    "\n",
    "a = int(input(\"Введите первое число \"))\n",
    "b = int(input(\"Введите второе число\"))\n",
    "print(gcd(a, b))"
   ]
  },
  {
   "cell_type": "markdown",
   "metadata": {},
   "source": [
    "**Напишем другую функцию для факториала**\n",
    "**Эта функция будет рекурсивной, то есть будет вызывать саму себя**"
   ]
  },
  {
   "cell_type": "code",
   "execution_count": null,
   "metadata": {},
   "outputs": [],
   "source": [
    "def factorial(x) :\n",
    "    if x == 0 :  # условие останова рекурсии\n",
    "        return 1\n",
    "    return x * factorial(x-1)  # штука называется рекурсией\n",
    "   \n",
    "  #  res = -100000  # никогда не выполнится\n",
    " \n",
    " \n",
    "number = int(input(\"Введите число -> \"))\n",
    " \n",
    "fact = factorial(number)\n",
    " \n",
    "print(\"Факториал числа {} равен {}\".format(number,fact))  # опять крутая штука с форматированием "
   ]
  },
  {
   "cell_type": "markdown",
   "metadata": {},
   "source": [
    "**Функция, которая складывает два числа:**"
   ]
  },
  {
   "cell_type": "code",
   "execution_count": null,
   "metadata": {},
   "outputs": [],
   "source": [
    "def adder(x,y) :\n",
    "    print(x)\n",
    "    print(y)\n",
    "    return x + y\n",
    " \n",
    "print(adder(2, 1))  # вызываем функцию от чисел 2 и 1, она вернет 3 и выведет 2  1\n",
    "# print(x) не работает т.к. такая переменная есть только внутри функции"
   ]
  },
  {
   "cell_type": "markdown",
   "metadata": {},
   "source": [
    "**Задание. Вычислить НОК двух чисел**.\n",
    "Напишем функцию, которая будет принимать два числа и возвращать их НОК.\n",
    "Используем формулу для НОК через НОД, а именно, что\n",
    "НОК(a, b) = a * b / НОД(a, b)"
   ]
  },
  {
   "cell_type": "code",
   "execution_count": null,
   "metadata": {},
   "outputs": [],
   "source": [
    "def nok(a, b):\n",
    "    return int(a * b / gcd(a, b)) #  gcd(a, b) - НОД чисел a и b\n",
    "\n",
    "a = int(input(\"Введите первое число -> \"))\n",
    "b = int(input(\"Введите второе число -> \"))\n",
    "print(\"НОД {} и {} равен {}\".format(a, b, nok(a, b)))"
   ]
  }
 ],
 "metadata": {
  "kernelspec": {
   "display_name": "Python 3",
   "language": "python",
   "name": "python3"
  },
  "language_info": {
   "codemirror_mode": {
    "name": "ipython",
    "version": 3
   },
   "file_extension": ".py",
   "mimetype": "text/x-python",
   "name": "python",
   "nbconvert_exporter": "python",
   "pygments_lexer": "ipython3",
   "version": "3.6.8"
  }
 },
 "nbformat": 4,
 "nbformat_minor": 2
}
